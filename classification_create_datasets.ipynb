{
 "cells": [
  {
   "cell_type": "code",
   "execution_count": null,
   "metadata": {},
   "outputs": [],
   "source": [
    "########### Generating data for training neural network for inference #########\n",
    "'''\n",
    "Define dimension, number of trajectories for each dataset, trajectory length and number of datasets to be generated\n",
    "'''\n",
    "dimension = 1                # 1, 2 or 3 Dimensions\n",
    "N = 100000                   # Number of trajectories per datasets\n",
    "traj_length = 225            # Length of the trajectories\n",
    "number_dataset = 30          # Number of datasets to be saved\n",
    "\n",
    "import andi \n",
    "AD = andi.andi_datasets()\n",
    "import scipy.io as sci\n",
    "\n",
    "n=0\n",
    "for repeat in range(number_dataset): \n",
    "    NA, NA, X, Y, NA, NA = AD.andi_dataset(N = N, tasks = 1, dimensions = dimension,\n",
    "                                             min_T = traj_length, max_T = traj_length+1,)\n",
    "    sci.savemat(r'data\\classification\\ ' + str(dimension) + 'D_' + str(traj_length) + '_' + str(n) + '.mat',{'X': X, 'Y':Y})\n",
    "    n += 1 "
   ]
  }
 ],
 "metadata": {
  "kernelspec": {
   "display_name": "Python 3",
   "language": "python",
   "name": "python3"
  },
  "language_info": {
   "codemirror_mode": {
    "name": "ipython",
    "version": 3
   },
   "file_extension": ".py",
   "mimetype": "text/x-python",
   "name": "python",
   "nbconvert_exporter": "python",
   "pygments_lexer": "ipython3",
   "version": "3.6.5"
  }
 },
 "nbformat": 4,
 "nbformat_minor": 4
}
